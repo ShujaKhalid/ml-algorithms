{
 "cells": [
  {
   "cell_type": "code",
   "execution_count": null,
   "id": "initial_id",
   "metadata": {
    "collapsed": true
   },
   "outputs": [],
   "source": [
    "'''\n",
    "Main components of Vision-Llama\n",
    "\n",
    "- A generic MLP class\n",
    "- An MLP Transformer\n",
    "- Multi-head attention\n",
    "- Transformer Layer\n",
    "- Transformer\n",
    "- Transformer Mapper\n",
    "\n",
    "'''\n",
    "import torch\n",
    "import torch.nn as nn\n",
    "import torch.nn.functional as nnf\n",
    "from typing import Tuple"
   ]
  },
  {
   "cell_type": "code",
   "execution_count": null,
   "outputs": [],
   "source": [
    "'''\n",
    "Generic MLP Module with Tanh activation\n",
    "'''\n",
    "class MLP(nn.Module):\n",
    "    def __init__(self, sizes: Tuple[int, ...], bias=True, act=nn.Tanh, *args, **kwargs):\n",
    "        super().__init__(*args, **kwargs)\n",
    "        self.sizes = sizes\n",
    "        self.layers = []\n",
    "        for i in range(len(sizes)-1):\n",
    "            self.layers.append(nn.Linear(sizes[i], sizes[i+1], bias=bias))\n",
    "            if i < len(sizes)-2:\n",
    "                self.layers.append(act())\n",
    "        self.model = nn.Sequential(*self.layers)\n",
    "        \n",
    "    def forward(self, x: torch.Tensor) -> torch.Tensor:\n",
    "        return self.model(x)"
   ],
   "metadata": {
    "collapsed": false
   },
   "id": "b9781b07a0387b20"
  }
 ],
 "metadata": {
  "kernelspec": {
   "display_name": "Python 3",
   "language": "python",
   "name": "python3"
  },
  "language_info": {
   "codemirror_mode": {
    "name": "ipython",
    "version": 2
   },
   "file_extension": ".py",
   "mimetype": "text/x-python",
   "name": "python",
   "nbconvert_exporter": "python",
   "pygments_lexer": "ipython2",
   "version": "2.7.6"
  }
 },
 "nbformat": 4,
 "nbformat_minor": 5
}
