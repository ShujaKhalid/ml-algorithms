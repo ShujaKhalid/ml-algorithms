{
 "cells": [
  {
   "cell_type": "code",
   "execution_count": null,
   "id": "initial_id",
   "metadata": {
    "collapsed": true
   },
   "outputs": [],
   "source": [
    "'''\n",
    "LoRA: Low rank adaptation of Large language models\n",
    "\n",
    "Notes:\n",
    "- Can be applied to most models not just large language models\n",
    "- SVD -> Singular value decomposition of the weights by assuming that the intrinsics dimension is much smaller than the actual dimension.\n",
    "- SVD allows us to use a super low-rank approximation.\n",
    "- We start by activating LORA and changing the formula from Y = X.W**T to Y = X.W**T + (B*A)*W * scale\n",
    "- Only the B and A parameters are going to be re-trained, and we exclude bias as the original paper excludes it. \n",
    "- ***TODO*** Apply LoRA on a Large-language model -> Can we get it to work?\n",
    "'''"
   ]
  }
 ],
 "metadata": {
  "kernelspec": {
   "display_name": "Python 3",
   "language": "python",
   "name": "python3"
  },
  "language_info": {
   "codemirror_mode": {
    "name": "ipython",
    "version": 2
   },
   "file_extension": ".py",
   "mimetype": "text/x-python",
   "name": "python",
   "nbconvert_exporter": "python",
   "pygments_lexer": "ipython2",
   "version": "2.7.6"
  }
 },
 "nbformat": 4,
 "nbformat_minor": 5
}
