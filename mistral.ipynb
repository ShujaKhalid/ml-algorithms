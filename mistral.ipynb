{
 "cells": [
  {
   "cell_type": "code",
   "execution_count": null,
   "id": "initial_id",
   "metadata": {
    "collapsed": true
   },
   "outputs": [],
   "source": [
    "'''\n",
    "Mistral/Mixtral\n",
    "\n",
    "Important concepts:\n",
    "- Mistral Architecture\n",
    "- Sliding window attention\n",
    "- KV-cache\n",
    "- Sparse mixture of experts\n",
    "- Model sharding\n",
    "- Block attention with x-formers\n",
    "\n",
    "Notes:\n",
    "- Mistral architecture is a decoder only model\n",
    "    - It doesn't have a linear and softmax - Unlike BERT which is an encoder model\n",
    "    - Next word prediction\n",
    "    - Very similar to the Llama architecture\n",
    "        - Uses Sliding window attention\n",
    "        - Rolling buffer\n",
    "        - SiLU instead of SwiLU (Llama)\n",
    "        - Feed-forward acts as a mixture of experts \n",
    "- The sliding window attention concept is an extension of the causal mask that is usually applied to the model before the softmax is taken. \n",
    "    - The window dictates how many tokens to attend to in the backwards direction.\n",
    "    - The concept is very similar to the concept of receptive fields in CNNs\n",
    "    - Remember that the output of one layer gets passed to the next layer, which means any words not attended to initially will get attended to INDIRECTLY in the next layer\n",
    "- Llama uses KV cache, which is a really interesting way to not repeat calculations when running inference. However, what we are interested in doing now is to also have a running buffer cache which doesn't cache all of the values of K and V, instead it only keeps `window` dims in memory as all of the other tokens are turned into 0 anyways.\n",
    "-  x-formers {TBD}\n",
    "\n",
    "'''"
   ]
  }
 ],
 "metadata": {
  "kernelspec": {
   "display_name": "Python 3",
   "language": "python",
   "name": "python3"
  },
  "language_info": {
   "codemirror_mode": {
    "name": "ipython",
    "version": 2
   },
   "file_extension": ".py",
   "mimetype": "text/x-python",
   "name": "python",
   "nbconvert_exporter": "python",
   "pygments_lexer": "ipython2",
   "version": "2.7.6"
  }
 },
 "nbformat": 4,
 "nbformat_minor": 5
}
