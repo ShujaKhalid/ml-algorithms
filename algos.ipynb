{
 "cells": [
  {
   "cell_type": "code",
   "execution_count": 1,
   "id": "initial_id",
   "metadata": {
    "collapsed": true,
    "ExecuteTime": {
     "end_time": "2024-01-04T18:31:56.854617Z",
     "start_time": "2024-01-04T18:31:56.206546Z"
    }
   },
   "outputs": [],
   "source": [
    "import jax\n",
    "import jax.numpy as jnp"
   ]
  },
  {
   "cell_type": "code",
   "execution_count": 14,
   "outputs": [],
   "source": [
    "rng = jax.random.PRNGKey(0)\n",
    "a = jax.random.uniform(rng, (2,3,3))\n",
    "b = jax.random.uniform(rng, (2,3,4))"
   ],
   "metadata": {
    "collapsed": false,
    "ExecuteTime": {
     "end_time": "2024-01-04T18:36:34.232619Z",
     "start_time": "2024-01-04T18:36:34.169756Z"
    }
   },
   "id": "56fea78d5ef16db4"
  },
  {
   "cell_type": "code",
   "execution_count": 15,
   "outputs": [
    {
     "name": "stdout",
     "output_type": "stream",
     "text": [
      "(2, 3, 3) (2, 3, 4) (2, 3, 4)\n"
     ]
    }
   ],
   "source": [
    "# Matrix multiplication\n",
    "c = jnp.einsum('bij,bjk->bik', a, b)\n",
    "print(a.shape, b.shape, c.shape)"
   ],
   "metadata": {
    "collapsed": false,
    "ExecuteTime": {
     "end_time": "2024-01-04T18:36:34.384930Z",
     "start_time": "2024-01-04T18:36:34.375199Z"
    }
   },
   "id": "c951510e3bb76a9b"
  },
  {
   "cell_type": "code",
   "execution_count": 31,
   "outputs": [
    {
     "name": "stdout",
     "output_type": "stream",
     "text": [
      "2.081306\n"
     ]
    }
   ],
   "source": [
    "# Dot product\n",
    "a = jax.random.uniform(rng, (4,4))\n",
    "b = jnp.einsum('ii', a)\n",
    "print(b)"
   ],
   "metadata": {
    "collapsed": false,
    "ExecuteTime": {
     "end_time": "2024-01-04T18:41:33.557354Z",
     "start_time": "2024-01-04T18:41:33.551291Z"
    }
   },
   "id": "490e3a0d40c01d07"
  },
  {
   "cell_type": "code",
   "execution_count": 32,
   "outputs": [
    {
     "data": {
      "text/plain": "'\\nKNN in JAX\\n'"
     },
     "execution_count": 32,
     "metadata": {},
     "output_type": "execute_result"
    }
   ],
   "source": [
    "'''\n",
    "KNN in JAX\n",
    "'''"
   ],
   "metadata": {
    "collapsed": false,
    "ExecuteTime": {
     "end_time": "2024-01-04T19:14:16.958718Z",
     "start_time": "2024-01-04T19:14:16.950399Z"
    }
   },
   "id": "ae6d181d3d5d52db"
  },
  {
   "cell_type": "code",
   "execution_count": null,
   "outputs": [],
   "source": [],
   "metadata": {
    "collapsed": false
   },
   "id": "3e144f2a8124ad82"
  },
  {
   "cell_type": "code",
   "execution_count": 33,
   "outputs": [
    {
     "data": {
      "text/plain": "'\\nPCA in JAX\\n'"
     },
     "execution_count": 33,
     "metadata": {},
     "output_type": "execute_result"
    }
   ],
   "source": [
    "'''\n",
    "PCA in JAX\n",
    "'''"
   ],
   "metadata": {
    "collapsed": false,
    "ExecuteTime": {
     "end_time": "2024-01-04T19:15:17.178482Z",
     "start_time": "2024-01-04T19:15:17.170381Z"
    }
   },
   "id": "86cee9ee4223eec9"
  },
  {
   "cell_type": "code",
   "execution_count": null,
   "outputs": [],
   "source": [],
   "metadata": {
    "collapsed": false
   },
   "id": "7402ba09c79d894f"
  },
  {
   "cell_type": "code",
   "execution_count": 44,
   "outputs": [
    {
     "name": "stdout",
     "output_type": "stream",
     "text": [
      "(5, 2) (2, 2)\n",
      "(5, 2, 2)\n"
     ]
    }
   ],
   "source": [
    "import jax\n",
    "import jax.numpy as jnp\n",
    "from jax import jit\n",
    "\n",
    "# Generate synthetic data\n",
    "data = jnp.array([[1, 2], [2, 3], [8, 9], [9, 10], [5, 6]])\n",
    "\n",
    "# Initialize cluster centroids\n",
    "k = 2\n",
    "centroids = data[:k]\n",
    "\n",
    "# Define the distance function\n",
    "def distance(x, centroids):\n",
    "    return jnp.linalg.norm(x - centroids, axis=1)\n",
    "\n",
    "# Assign data points to the nearest centroids\n",
    "def assign_clusters(data, centroids):\n",
    "    return jnp.argmin(jnp.linalg.norm(data[:, None] - centroids, axis=2), axis=1)\n",
    "\n",
    "# Update centroids to the mean of assigned data points\n",
    "def update_centroids(data, cluster_assignments):\n",
    "    new_centroids = jnp.array([jnp.mean(data[cluster_assignments == i], axis=0) for i in range(k)])\n",
    "    return new_centroids\n",
    "\n",
    "# Perform K-Means clustering\n",
    "for _ in range(100):\n",
    "    cluster_assignments = assign_clusters(data, centroids)\n",
    "    new_centroids = update_centroids(data, cluster_assignments)\n",
    "    \n",
    "    # Check for convergence\n",
    "    if jnp.all(centroids == new_centroids):\n",
    "        break\n",
    "    \n",
    "    centroids = new_centroids\n",
    "\n",
    "# Final cluster assignments\n",
    "print(\"Cluster Assignments:\", cluster_assignments)\n",
    "print(\"Cluster Centroids:\", centroids)\n"
   ],
   "metadata": {
    "collapsed": false,
    "ExecuteTime": {
     "end_time": "2024-01-04T21:38:01.472561Z",
     "start_time": "2024-01-04T21:38:01.466568Z"
    }
   },
   "id": "9fe130d93811efc9"
  },
  {
   "cell_type": "code",
   "execution_count": null,
   "outputs": [],
   "source": [],
   "metadata": {
    "collapsed": false
   },
   "id": "2d72580f32cd1ef8"
  },
  {
   "cell_type": "code",
   "execution_count": 37,
   "outputs": [
    {
     "name": "stdout",
     "output_type": "stream",
     "text": [
      "[1.9999999 3.9999998 5.9999995 7.9999995]\n"
     ]
    }
   ],
   "source": [
    "'''\n",
    "Linear regression in JAX\n",
    "'''\n",
    "import jax\n",
    "import jax.numpy as jnp\n",
    "from jax import grad\n",
    "\n",
    "# Generate synthetic data\n",
    "X = jnp.array([[1, 1], [2, 2], [3, 3], [4, 4]])\n",
    "y = jnp.array([2, 4, 6, 8])\n",
    "\n",
    "# Initialize model parameters\n",
    "params = jnp.array([0.0, 0.0])\n",
    "\n",
    "# Define the linear regression model\n",
    "def linear_regression(params, x):\n",
    "    return jnp.dot(params, x)\n",
    "\n",
    "# Define the mean squared error loss\n",
    "def mse(params, x, y):\n",
    "    predictions = linear_regression(params, x)\n",
    "    return jnp.mean((predictions - y) ** 2)\n",
    "\n",
    "# Compute gradients and update parameters using gradient descent\n",
    "learning_rate = 0.01\n",
    "for _ in range(100):\n",
    "    gradients = grad(mse)(params, X.T, y)\n",
    "    params -= learning_rate * gradients\n",
    "\n",
    "# Make predictions\n",
    "predictions = linear_regression(params, X.T)\n",
    "print(predictions)\n"
   ],
   "metadata": {
    "collapsed": false,
    "ExecuteTime": {
     "end_time": "2024-01-04T20:57:26.966581Z",
     "start_time": "2024-01-04T20:57:26.702075Z"
    }
   },
   "id": "87ab774915b172b4"
  },
  {
   "cell_type": "code",
   "execution_count": null,
   "outputs": [],
   "source": [],
   "metadata": {
    "collapsed": false
   },
   "id": "ed5c20868b5f107e"
  },
  {
   "cell_type": "code",
   "execution_count": 38,
   "outputs": [
    {
     "name": "stdout",
     "output_type": "stream",
     "text": [
      "[0.5671718  0.6211104  0.67221195 0.7624377 ]\n"
     ]
    }
   ],
   "source": [
    "'''\n",
    "Logistic regression in JAX\n",
    "'''\n",
    "import jax\n",
    "import jax.numpy as jnp\n",
    "from jax import grad\n",
    "\n",
    "# Generate synthetic data\n",
    "X = jnp.array([[1, 2], [2, 3], [3, 4], [5, 6]])\n",
    "y = jnp.array([0, 0, 1, 1], dtype=jnp.float32)\n",
    "\n",
    "# Initialize model parameters\n",
    "params = jnp.array([0.0, 0.0])\n",
    "\n",
    "# Define the logistic regression model\n",
    "def logistic_regression(params, x):\n",
    "    z = jnp.dot(params, x)\n",
    "    return 1.0 / (1.0 + jnp.exp(-z))\n",
    "\n",
    "# Define the cross-entropy loss\n",
    "def cross_entropy(params, x, y):\n",
    "    predictions = logistic_regression(params, x)\n",
    "    return -jnp.mean(y * jnp.log(predictions) + (1.0 - y) * jnp.log(1.0 - predictions))\n",
    "\n",
    "# Compute gradients and update parameters using gradient descent\n",
    "learning_rate = 0.01\n",
    "for _ in range(100):\n",
    "    gradients = grad(cross_entropy)(params, X.T, y)\n",
    "    params -= learning_rate * gradients\n",
    "\n",
    "# Make predictions\n",
    "predictions = logistic_regression(params, X.T)\n",
    "print(predictions)\n"
   ],
   "metadata": {
    "collapsed": false,
    "ExecuteTime": {
     "end_time": "2024-01-04T21:20:54.344138Z",
     "start_time": "2024-01-04T21:20:53.812394Z"
    }
   },
   "id": "d5dab9837d5a38b5"
  },
  {
   "cell_type": "code",
   "execution_count": null,
   "outputs": [],
   "source": [],
   "metadata": {
    "collapsed": false
   },
   "id": "53e71e0afab4ed6"
  }
 ],
 "metadata": {
  "kernelspec": {
   "display_name": "Python 3",
   "language": "python",
   "name": "python3"
  },
  "language_info": {
   "codemirror_mode": {
    "name": "ipython",
    "version": 2
   },
   "file_extension": ".py",
   "mimetype": "text/x-python",
   "name": "python",
   "nbconvert_exporter": "python",
   "pygments_lexer": "ipython2",
   "version": "2.7.6"
  }
 },
 "nbformat": 4,
 "nbformat_minor": 5
}
